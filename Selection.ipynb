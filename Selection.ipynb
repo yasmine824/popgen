{
  "nbformat": 4,
  "nbformat_minor": 0,
  "metadata": {
    "kernelspec": {
      "display_name": "R",
      "language": "R",
      "name": "ir"
    },
    "language_info": {
      "codemirror_mode": "r",
      "file_extension": ".r",
      "mimetype": "text/x-r-source",
      "name": "R",
      "pygments_lexer": "r",
      "version": "3.3.1"
    },
    "colab": {
      "name": "Selection",
      "provenance": [],
      "collapsed_sections": [],
      "include_colab_link": true
    }
  },
  "cells": [
    {
      "cell_type": "markdown",
      "metadata": {
        "id": "view-in-github",
        "colab_type": "text"
      },
      "source": [
        "<a href=\"https://colab.research.google.com/github/ahmedmoustafa/popgen/blob/main/Selection.ipynb\" target=\"_parent\"><img src=\"https://colab.research.google.com/assets/colab-badge.svg\" alt=\"Open In Colab\"/></a>"
      ]
    },
    {
      "cell_type": "markdown",
      "metadata": {
        "id": "7G9n7ivlqpYU"
      },
      "source": [
        "# Selection\n",
        "---"
      ]
    },
    {
      "cell_type": "markdown",
      "metadata": {
        "id": "UlbifUtkouHh"
      },
      "source": [
        "In this laboratory exercise, we are going to explore [selection](https://en.wikipedia.org/wiki/Natural_selection) as an evolutionary force. We will observe the change in the allele and genotype frequencies under selection as a function of selection coefficient (strong versus weak selection), genotype fitness, initial allele frequency, and the number of generations."
      ]
    },
    {
      "cell_type": "code",
      "metadata": {
        "id": "HKsnvnAPbUDY"
      },
      "source": [
        "selection_coefficient = 0.001 # s\n",
        "number_of_generations = 10000 # t\n",
        "\n",
        "fitness_aa = 1 # w11\n",
        "fitness_ab = 1 # w12\n",
        "fitness_bb = 1 - selection_coefficient # w22\n",
        "\n",
        "freq_a = 0.5 # p"
      ],
      "execution_count": 2,
      "outputs": []
    }
  ]
}