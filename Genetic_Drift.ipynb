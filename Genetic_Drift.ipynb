{
  "nbformat": 4,
  "nbformat_minor": 0,
  "metadata": {
    "kernelspec": {
      "display_name": "R",
      "language": "R",
      "name": "ir"
    },
    "language_info": {
      "codemirror_mode": "r",
      "file_extension": ".r",
      "mimetype": "text/x-r-source",
      "name": "R",
      "pygments_lexer": "r",
      "version": "3.3.1"
    },
    "colab": {
      "name": "Genetic Drift",
      "provenance": [],
      "collapsed_sections": [],
      "include_colab_link": true
    }
  },
  "cells": [
    {
      "cell_type": "markdown",
      "metadata": {
        "id": "view-in-github",
        "colab_type": "text"
      },
      "source": [
        "<a href=\"https://colab.research.google.com/github/ahmedmoustafa/popgen/blob/main/Genetic_Drift.ipynb\" target=\"_parent\"><img src=\"https://colab.research.google.com/assets/colab-badge.svg\" alt=\"Open In Colab\"/></a>"
      ]
    },
    {
      "cell_type": "markdown",
      "metadata": {
        "id": "7G9n7ivlqpYU"
      },
      "source": [
        "# Genetic Drift\n",
        "---"
      ]
    },
    {
      "cell_type": "markdown",
      "metadata": {
        "id": "UlbifUtkouHh"
      },
      "source": [
        "In this laboratory exercise, we will explore the effect of random genetic drift as an evolutionary force. You will write R code to simulate genetic drift on a gene with a number of alleles over generations. Let’s assume a haploid population for simplicity. Repeat the simulation for different population sizes and record your results regarding the alleles and their frequencies over time.\n"
      ]
    },
    {
      "cell_type": "code",
      "metadata": {
        "id": "HKsnvnAPbUDY"
      },
      "source": [
        "number_of_variants = 10 # Number of alleles\n",
        "population_size = 100\n",
        "number_of_generations = 1000 # Maximum number of generations"
      ],
      "execution_count": 1,
      "outputs": []
    },
    {
      "cell_type": "markdown",
      "metadata": {
        "id": "lQmOM4Ksl3Y7"
      },
      "source": [
        "Generate initial distribution of variants"
      ]
    },
    {
      "cell_type": "code",
      "metadata": {
        "id": "Gx15Khk2mLJt"
      },
      "source": [
        "variants = sample (LETTERS[1:number_of_variants], population_size, replace = TRUE)"
      ],
      "execution_count": 2,
      "outputs": []
    },
    {
      "cell_type": "markdown",
      "metadata": {
        "id": "IeNe7EAEm_7W"
      },
      "source": [
        "Display number of variants at t = 0"
      ]
    },
    {
      "cell_type": "code",
      "metadata": {
        "colab": {
          "base_uri": "https://localhost:8080/",
          "height": 34
        },
        "id": "44dsl688m4hW",
        "outputId": "232b41df-af85-4c24-89fc-f02c9379d6d0"
      },
      "source": [
        "length(unique(variants))"
      ],
      "execution_count": 3,
      "outputs": [
        {
          "output_type": "display_data",
          "data": {
            "text/plain": [
              "[1] 10"
            ],
            "text/latex": "10",
            "text/markdown": "10",
            "text/html": [
              "10"
            ]
          },
          "metadata": {
            "tags": []
          }
        }
      ]
    },
    {
      "cell_type": "markdown",
      "metadata": {
        "id": "YQrtJkKtmRdI"
      },
      "source": [
        "Display initial alleles counts at t = 0"
      ]
    },
    {
      "cell_type": "code",
      "metadata": {
        "colab": {
          "base_uri": "https://localhost:8080/",
          "height": 68
        },
        "id": "dNqWRT5QmVFZ",
        "outputId": "f503bbc3-b61f-4a68-fe8c-3b407cc5b79f"
      },
      "source": [
        "table(variants)"
      ],
      "execution_count": 4,
      "outputs": [
        {
          "output_type": "display_data",
          "data": {
            "text/plain": [
              "variants\n",
              " A  B  C  D  E  F  G  H  I  J \n",
              "12  8 12 13  7  7 11  8  8 14 "
            ]
          },
          "metadata": {
            "tags": []
          }
        }
      ]
    },
    {
      "cell_type": "markdown",
      "metadata": {
        "id": "rVSG6loVneBS"
      },
      "source": [
        "Display initial alleles freqs at t = 0"
      ]
    },
    {
      "cell_type": "code",
      "metadata": {
        "colab": {
          "base_uri": "https://localhost:8080/",
          "height": 68
        },
        "id": "-cSfTsxNnfEb",
        "outputId": "b6901b63-348f-4108-f218-dd264d3ffb1c"
      },
      "source": [
        "table(variants)/population_size"
      ],
      "execution_count": 5,
      "outputs": [
        {
          "output_type": "display_data",
          "data": {
            "text/plain": [
              "variants\n",
              "   A    B    C    D    E    F    G    H    I    J \n",
              "0.12 0.08 0.12 0.13 0.07 0.07 0.11 0.08 0.08 0.14 "
            ]
          },
          "metadata": {
            "tags": []
          }
        }
      ]
    }
  ]
}