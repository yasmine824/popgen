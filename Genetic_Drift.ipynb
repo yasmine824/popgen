{
  "nbformat": 4,
  "nbformat_minor": 0,
  "metadata": {
    "kernelspec": {
      "display_name": "R",
      "language": "R",
      "name": "ir"
    },
    "language_info": {
      "codemirror_mode": "r",
      "file_extension": ".r",
      "mimetype": "text/x-r-source",
      "name": "R",
      "pygments_lexer": "r",
      "version": "3.3.1"
    },
    "colab": {
      "name": "Genetic Drift",
      "provenance": [],
      "collapsed_sections": [],
      "include_colab_link": true
    }
  },
  "cells": [
    {
      "cell_type": "markdown",
      "metadata": {
        "id": "view-in-github",
        "colab_type": "text"
      },
      "source": [
        "<a href=\"https://colab.research.google.com/github/ahmedmoustafa/popgen/blob/main/Genetic_Drift.ipynb\" target=\"_parent\"><img src=\"https://colab.research.google.com/assets/colab-badge.svg\" alt=\"Open In Colab\"/></a>"
      ]
    },
    {
      "cell_type": "markdown",
      "metadata": {
        "id": "7G9n7ivlqpYU"
      },
      "source": [
        "# Genetic Drift\n",
        "---"
      ]
    },
    {
      "cell_type": "markdown",
      "metadata": {
        "id": "UlbifUtkouHh"
      },
      "source": [
        "In this laboratory exercise, we will explore the effect of [genetic drift](https://en.wikipedia.org/wiki/Genetic_drift) as an evolutionary force. You will write R code to simulate genetic drift on a gene with a number of alleles over generations. Let’s assume a haploid population for simplicity. Repeat the simulation for different population sizes and record your results regarding the alleles and their frequencies over time.\n"
      ]
    },
    {
      "cell_type": "code",
      "metadata": {
        "id": "HKsnvnAPbUDY"
      },
      "source": [
        "number_of_variants = 10 # Number of alleles\n",
        "population_size = 100\n",
        "number_of_generations = 100 # Maximum number of generations"
      ],
      "execution_count": 9,
      "outputs": []
    },
    {
      "cell_type": "code",
      "metadata": {
        "colab": {
          "base_uri": "https://localhost:8080/",
          "height": 34
        },
        "id": "e-cUCWj-b29o",
        "outputId": "a7d2a3fb-5f29-4ce1-82dd-fc548552e8db"
      },
      "source": [
        "LETTERS"
      ],
      "execution_count": 10,
      "outputs": [
        {
          "output_type": "display_data",
          "data": {
            "text/plain": [
              " [1] \"A\" \"B\" \"C\" \"D\" \"E\" \"F\" \"G\" \"H\" \"I\" \"J\" \"K\" \"L\" \"M\" \"N\" \"O\" \"P\" \"Q\" \"R\" \"S\"\n",
              "[20] \"T\" \"U\" \"V\" \"W\" \"X\" \"Y\" \"Z\""
            ],
            "text/latex": "\\begin{enumerate*}\n\\item 'A'\n\\item 'B'\n\\item 'C'\n\\item 'D'\n\\item 'E'\n\\item 'F'\n\\item 'G'\n\\item 'H'\n\\item 'I'\n\\item 'J'\n\\item 'K'\n\\item 'L'\n\\item 'M'\n\\item 'N'\n\\item 'O'\n\\item 'P'\n\\item 'Q'\n\\item 'R'\n\\item 'S'\n\\item 'T'\n\\item 'U'\n\\item 'V'\n\\item 'W'\n\\item 'X'\n\\item 'Y'\n\\item 'Z'\n\\end{enumerate*}\n",
            "text/markdown": "1. 'A'\n2. 'B'\n3. 'C'\n4. 'D'\n5. 'E'\n6. 'F'\n7. 'G'\n8. 'H'\n9. 'I'\n10. 'J'\n11. 'K'\n12. 'L'\n13. 'M'\n14. 'N'\n15. 'O'\n16. 'P'\n17. 'Q'\n18. 'R'\n19. 'S'\n20. 'T'\n21. 'U'\n22. 'V'\n23. 'W'\n24. 'X'\n25. 'Y'\n26. 'Z'\n\n\n",
            "text/html": [
              "<style>\n",
              ".list-inline {list-style: none; margin:0; padding: 0}\n",
              ".list-inline>li {display: inline-block}\n",
              ".list-inline>li:not(:last-child)::after {content: \"\\00b7\"; padding: 0 .5ex}\n",
              "</style>\n",
              "<ol class=list-inline><li>'A'</li><li>'B'</li><li>'C'</li><li>'D'</li><li>'E'</li><li>'F'</li><li>'G'</li><li>'H'</li><li>'I'</li><li>'J'</li><li>'K'</li><li>'L'</li><li>'M'</li><li>'N'</li><li>'O'</li><li>'P'</li><li>'Q'</li><li>'R'</li><li>'S'</li><li>'T'</li><li>'U'</li><li>'V'</li><li>'W'</li><li>'X'</li><li>'Y'</li><li>'Z'</li></ol>\n"
            ]
          },
          "metadata": {
            "tags": []
          }
        }
      ]
    },
    {
      "cell_type": "code",
      "metadata": {
        "colab": {
          "base_uri": "https://localhost:8080/",
          "height": 34
        },
        "id": "dNObYiLib6Zt",
        "outputId": "51886046-f324-4051-bd50-93dd32fb0d18"
      },
      "source": [
        "LETTERS[1:number_of_variants]"
      ],
      "execution_count": 3,
      "outputs": [
        {
          "output_type": "display_data",
          "data": {
            "text/plain": [
              " [1] \"A\" \"B\" \"C\" \"D\" \"E\" \"F\" \"G\" \"H\" \"I\" \"J\""
            ],
            "text/latex": "\\begin{enumerate*}\n\\item 'A'\n\\item 'B'\n\\item 'C'\n\\item 'D'\n\\item 'E'\n\\item 'F'\n\\item 'G'\n\\item 'H'\n\\item 'I'\n\\item 'J'\n\\end{enumerate*}\n",
            "text/markdown": "1. 'A'\n2. 'B'\n3. 'C'\n4. 'D'\n5. 'E'\n6. 'F'\n7. 'G'\n8. 'H'\n9. 'I'\n10. 'J'\n\n\n",
            "text/html": [
              "<style>\n",
              ".list-inline {list-style: none; margin:0; padding: 0}\n",
              ".list-inline>li {display: inline-block}\n",
              ".list-inline>li:not(:last-child)::after {content: \"\\00b7\"; padding: 0 .5ex}\n",
              "</style>\n",
              "<ol class=list-inline><li>'A'</li><li>'B'</li><li>'C'</li><li>'D'</li><li>'E'</li><li>'F'</li><li>'G'</li><li>'H'</li><li>'I'</li><li>'J'</li></ol>\n"
            ]
          },
          "metadata": {
            "tags": []
          }
        }
      ]
    },
    {
      "cell_type": "code",
      "metadata": {
        "colab": {
          "base_uri": "https://localhost:8080/",
          "height": 34
        },
        "id": "r20Mx6YvcTZj",
        "outputId": "46c50ee0-a6f4-4693-8e8d-94b3928ef4cc"
      },
      "source": [
        "alleles = LETTERS[1:number_of_variants]\n",
        "alleles"
      ],
      "execution_count": 4,
      "outputs": [
        {
          "output_type": "display_data",
          "data": {
            "text/plain": [
              " [1] \"A\" \"B\" \"C\" \"D\" \"E\" \"F\" \"G\" \"H\" \"I\" \"J\""
            ],
            "text/latex": "\\begin{enumerate*}\n\\item 'A'\n\\item 'B'\n\\item 'C'\n\\item 'D'\n\\item 'E'\n\\item 'F'\n\\item 'G'\n\\item 'H'\n\\item 'I'\n\\item 'J'\n\\end{enumerate*}\n",
            "text/markdown": "1. 'A'\n2. 'B'\n3. 'C'\n4. 'D'\n5. 'E'\n6. 'F'\n7. 'G'\n8. 'H'\n9. 'I'\n10. 'J'\n\n\n",
            "text/html": [
              "<style>\n",
              ".list-inline {list-style: none; margin:0; padding: 0}\n",
              ".list-inline>li {display: inline-block}\n",
              ".list-inline>li:not(:last-child)::after {content: \"\\00b7\"; padding: 0 .5ex}\n",
              "</style>\n",
              "<ol class=list-inline><li>'A'</li><li>'B'</li><li>'C'</li><li>'D'</li><li>'E'</li><li>'F'</li><li>'G'</li><li>'H'</li><li>'I'</li><li>'J'</li></ol>\n"
            ]
          },
          "metadata": {
            "tags": []
          }
        }
      ]
    },
    {
      "cell_type": "markdown",
      "metadata": {
        "id": "lQmOM4Ksl3Y7"
      },
      "source": [
        "Generate initial distribution of variants"
      ]
    },
    {
      "cell_type": "code",
      "metadata": {
        "id": "Gx15Khk2mLJt",
        "colab": {
          "base_uri": "https://localhost:8080/",
          "height": 85
        },
        "outputId": "b7f926de-1cf4-4fd1-d28d-eee24083d04f"
      },
      "source": [
        "population = sample (alleles, population_size, replace = TRUE)\n",
        "population"
      ],
      "execution_count": 11,
      "outputs": [
        {
          "output_type": "display_data",
          "data": {
            "text/plain": [
              "  [1] \"B\" \"I\" \"I\" \"C\" \"H\" \"J\" \"C\" \"H\" \"G\" \"E\" \"F\" \"I\" \"A\" \"G\" \"E\" \"A\" \"G\" \"B\"\n",
              " [19] \"B\" \"B\" \"A\" \"E\" \"I\" \"D\" \"J\" \"J\" \"H\" \"B\" \"A\" \"D\" \"J\" \"A\" \"E\" \"D\" \"I\" \"H\"\n",
              " [37] \"I\" \"C\" \"J\" \"G\" \"G\" \"F\" \"A\" \"H\" \"A\" \"C\" \"G\" \"I\" \"D\" \"D\" \"F\" \"H\" \"D\" \"I\"\n",
              " [55] \"E\" \"B\" \"H\" \"B\" \"F\" \"C\" \"I\" \"A\" \"C\" \"C\" \"I\" \"D\" \"D\" \"G\" \"D\" \"C\" \"H\" \"B\"\n",
              " [73] \"G\" \"F\" \"I\" \"D\" \"B\" \"A\" \"C\" \"G\" \"E\" \"E\" \"G\" \"H\" \"G\" \"I\" \"A\" \"J\" \"J\" \"I\"\n",
              " [91] \"F\" \"E\" \"G\" \"H\" \"C\" \"C\" \"F\" \"J\" \"H\" \"G\""
            ],
            "text/latex": "\\begin{enumerate*}\n\\item 'B'\n\\item 'I'\n\\item 'I'\n\\item 'C'\n\\item 'H'\n\\item 'J'\n\\item 'C'\n\\item 'H'\n\\item 'G'\n\\item 'E'\n\\item 'F'\n\\item 'I'\n\\item 'A'\n\\item 'G'\n\\item 'E'\n\\item 'A'\n\\item 'G'\n\\item 'B'\n\\item 'B'\n\\item 'B'\n\\item 'A'\n\\item 'E'\n\\item 'I'\n\\item 'D'\n\\item 'J'\n\\item 'J'\n\\item 'H'\n\\item 'B'\n\\item 'A'\n\\item 'D'\n\\item 'J'\n\\item 'A'\n\\item 'E'\n\\item 'D'\n\\item 'I'\n\\item 'H'\n\\item 'I'\n\\item 'C'\n\\item 'J'\n\\item 'G'\n\\item 'G'\n\\item 'F'\n\\item 'A'\n\\item 'H'\n\\item 'A'\n\\item 'C'\n\\item 'G'\n\\item 'I'\n\\item 'D'\n\\item 'D'\n\\item 'F'\n\\item 'H'\n\\item 'D'\n\\item 'I'\n\\item 'E'\n\\item 'B'\n\\item 'H'\n\\item 'B'\n\\item 'F'\n\\item 'C'\n\\item 'I'\n\\item 'A'\n\\item 'C'\n\\item 'C'\n\\item 'I'\n\\item 'D'\n\\item 'D'\n\\item 'G'\n\\item 'D'\n\\item 'C'\n\\item 'H'\n\\item 'B'\n\\item 'G'\n\\item 'F'\n\\item 'I'\n\\item 'D'\n\\item 'B'\n\\item 'A'\n\\item 'C'\n\\item 'G'\n\\item 'E'\n\\item 'E'\n\\item 'G'\n\\item 'H'\n\\item 'G'\n\\item 'I'\n\\item 'A'\n\\item 'J'\n\\item 'J'\n\\item 'I'\n\\item 'F'\n\\item 'E'\n\\item 'G'\n\\item 'H'\n\\item 'C'\n\\item 'C'\n\\item 'F'\n\\item 'J'\n\\item 'H'\n\\item 'G'\n\\end{enumerate*}\n",
            "text/markdown": "1. 'B'\n2. 'I'\n3. 'I'\n4. 'C'\n5. 'H'\n6. 'J'\n7. 'C'\n8. 'H'\n9. 'G'\n10. 'E'\n11. 'F'\n12. 'I'\n13. 'A'\n14. 'G'\n15. 'E'\n16. 'A'\n17. 'G'\n18. 'B'\n19. 'B'\n20. 'B'\n21. 'A'\n22. 'E'\n23. 'I'\n24. 'D'\n25. 'J'\n26. 'J'\n27. 'H'\n28. 'B'\n29. 'A'\n30. 'D'\n31. 'J'\n32. 'A'\n33. 'E'\n34. 'D'\n35. 'I'\n36. 'H'\n37. 'I'\n38. 'C'\n39. 'J'\n40. 'G'\n41. 'G'\n42. 'F'\n43. 'A'\n44. 'H'\n45. 'A'\n46. 'C'\n47. 'G'\n48. 'I'\n49. 'D'\n50. 'D'\n51. 'F'\n52. 'H'\n53. 'D'\n54. 'I'\n55. 'E'\n56. 'B'\n57. 'H'\n58. 'B'\n59. 'F'\n60. 'C'\n61. 'I'\n62. 'A'\n63. 'C'\n64. 'C'\n65. 'I'\n66. 'D'\n67. 'D'\n68. 'G'\n69. 'D'\n70. 'C'\n71. 'H'\n72. 'B'\n73. 'G'\n74. 'F'\n75. 'I'\n76. 'D'\n77. 'B'\n78. 'A'\n79. 'C'\n80. 'G'\n81. 'E'\n82. 'E'\n83. 'G'\n84. 'H'\n85. 'G'\n86. 'I'\n87. 'A'\n88. 'J'\n89. 'J'\n90. 'I'\n91. 'F'\n92. 'E'\n93. 'G'\n94. 'H'\n95. 'C'\n96. 'C'\n97. 'F'\n98. 'J'\n99. 'H'\n100. 'G'\n\n\n",
            "text/html": [
              "<style>\n",
              ".list-inline {list-style: none; margin:0; padding: 0}\n",
              ".list-inline>li {display: inline-block}\n",
              ".list-inline>li:not(:last-child)::after {content: \"\\00b7\"; padding: 0 .5ex}\n",
              "</style>\n",
              "<ol class=list-inline><li>'B'</li><li>'I'</li><li>'I'</li><li>'C'</li><li>'H'</li><li>'J'</li><li>'C'</li><li>'H'</li><li>'G'</li><li>'E'</li><li>'F'</li><li>'I'</li><li>'A'</li><li>'G'</li><li>'E'</li><li>'A'</li><li>'G'</li><li>'B'</li><li>'B'</li><li>'B'</li><li>'A'</li><li>'E'</li><li>'I'</li><li>'D'</li><li>'J'</li><li>'J'</li><li>'H'</li><li>'B'</li><li>'A'</li><li>'D'</li><li>'J'</li><li>'A'</li><li>'E'</li><li>'D'</li><li>'I'</li><li>'H'</li><li>'I'</li><li>'C'</li><li>'J'</li><li>'G'</li><li>'G'</li><li>'F'</li><li>'A'</li><li>'H'</li><li>'A'</li><li>'C'</li><li>'G'</li><li>'I'</li><li>'D'</li><li>'D'</li><li>'F'</li><li>'H'</li><li>'D'</li><li>'I'</li><li>'E'</li><li>'B'</li><li>'H'</li><li>'B'</li><li>'F'</li><li>'C'</li><li>'I'</li><li>'A'</li><li>'C'</li><li>'C'</li><li>'I'</li><li>'D'</li><li>'D'</li><li>'G'</li><li>'D'</li><li>'C'</li><li>'H'</li><li>'B'</li><li>'G'</li><li>'F'</li><li>'I'</li><li>'D'</li><li>'B'</li><li>'A'</li><li>'C'</li><li>'G'</li><li>'E'</li><li>'E'</li><li>'G'</li><li>'H'</li><li>'G'</li><li>'I'</li><li>'A'</li><li>'J'</li><li>'J'</li><li>'I'</li><li>'F'</li><li>'E'</li><li>'G'</li><li>'H'</li><li>'C'</li><li>'C'</li><li>'F'</li><li>'J'</li><li>'H'</li><li>'G'</li></ol>\n"
            ]
          },
          "metadata": {
            "tags": []
          }
        }
      ]
    },
    {
      "cell_type": "markdown",
      "metadata": {
        "id": "IeNe7EAEm_7W"
      },
      "source": [
        "Display number of variants at t = 0"
      ]
    },
    {
      "cell_type": "code",
      "metadata": {
        "colab": {
          "base_uri": "https://localhost:8080/",
          "height": 34
        },
        "id": "44dsl688m4hW",
        "outputId": "57552958-ec80-422d-9c94-4550637dcabb"
      },
      "source": [
        "length(unique(population))"
      ],
      "execution_count": 6,
      "outputs": [
        {
          "output_type": "display_data",
          "data": {
            "text/plain": [
              "[1] 10"
            ],
            "text/latex": "10",
            "text/markdown": "10",
            "text/html": [
              "10"
            ]
          },
          "metadata": {
            "tags": []
          }
        }
      ]
    },
    {
      "cell_type": "markdown",
      "metadata": {
        "id": "YQrtJkKtmRdI"
      },
      "source": [
        "Display initial alleles counts at t = 0"
      ]
    },
    {
      "cell_type": "code",
      "metadata": {
        "colab": {
          "base_uri": "https://localhost:8080/",
          "height": 69
        },
        "id": "dNqWRT5QmVFZ",
        "outputId": "5e9bc862-b495-40b1-8f17-a6b1685a80db"
      },
      "source": [
        "table(population)"
      ],
      "execution_count": 7,
      "outputs": [
        {
          "output_type": "display_data",
          "data": {
            "text/plain": [
              "population\n",
              " A  B  C  D  E  F  G  H  I  J \n",
              "10  9 11  8 12 10 13 13  7  7 "
            ]
          },
          "metadata": {
            "tags": []
          }
        }
      ]
    },
    {
      "cell_type": "markdown",
      "metadata": {
        "id": "rVSG6loVneBS"
      },
      "source": [
        "Display initial alleles freqs at t = 0"
      ]
    },
    {
      "cell_type": "code",
      "metadata": {
        "colab": {
          "base_uri": "https://localhost:8080/",
          "height": 69
        },
        "id": "-cSfTsxNnfEb",
        "outputId": "74f27832-1fcb-49fe-9876-6105c07048c9"
      },
      "source": [
        "table(population)/population_size"
      ],
      "execution_count": 8,
      "outputs": [
        {
          "output_type": "display_data",
          "data": {
            "text/plain": [
              "population\n",
              "   A    B    C    D    E    F    G    H    I    J \n",
              "0.10 0.09 0.11 0.08 0.12 0.10 0.13 0.13 0.07 0.07 "
            ]
          },
          "metadata": {
            "tags": []
          }
        }
      ]
    },
    {
      "cell_type": "code",
      "metadata": {
        "id": "tHz-f16HcljM"
      },
      "source": [
        ""
      ],
      "execution_count": null,
      "outputs": []
    }
  ]
}