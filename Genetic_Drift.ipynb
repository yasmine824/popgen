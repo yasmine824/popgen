{
  "nbformat": 4,
  "nbformat_minor": 0,
  "metadata": {
    "kernelspec": {
      "display_name": "R",
      "language": "R",
      "name": "ir"
    },
    "language_info": {
      "codemirror_mode": "r",
      "file_extension": ".r",
      "mimetype": "text/x-r-source",
      "name": "R",
      "pygments_lexer": "r",
      "version": "3.3.1"
    },
    "colab": {
      "name": "Genetic Drift",
      "provenance": [],
      "collapsed_sections": [],
      "include_colab_link": true
    }
  },
  "cells": [
    {
      "cell_type": "markdown",
      "metadata": {
        "id": "view-in-github",
        "colab_type": "text"
      },
      "source": [
        "<a href=\"https://colab.research.google.com/github/ahmedmoustafa/popgen/blob/main/Genetic_Drift.ipynb\" target=\"_parent\"><img src=\"https://colab.research.google.com/assets/colab-badge.svg\" alt=\"Open In Colab\"/></a>"
      ]
    },
    {
      "cell_type": "markdown",
      "metadata": {
        "id": "7G9n7ivlqpYU"
      },
      "source": [
        "# Genetic Drift\n",
        "---"
      ]
    },
    {
      "cell_type": "markdown",
      "metadata": {
        "id": "UlbifUtkouHh"
      },
      "source": [
        "In this laboratory exercise, we will explore the effect of [genetic drift](https://en.wikipedia.org/wiki/Genetic_drift) as an evolutionary force. You will write R code to simulate genetic drift on a gene with a number of alleles over generations. Let’s assume a haploid population for simplicity. Repeat the simulation for different population sizes and record your results regarding the alleles and their frequencies over time.\n"
      ]
    },
    {
      "cell_type": "code",
      "metadata": {
        "id": "HKsnvnAPbUDY"
      },
      "source": [
        "number_of_variants = 10 # Number of alleles\n",
        "population_size = 100\n",
        "number_of_generations = 1000 # Maximum number of generations"
      ],
      "execution_count": 1,
      "outputs": []
    },
    {
      "cell_type": "code",
      "metadata": {
        "colab": {
          "base_uri": "https://localhost:8080/",
          "height": 34
        },
        "id": "e-cUCWj-b29o",
        "outputId": "0d926406-fc95-4406-a488-2cf6fdaf59c6"
      },
      "source": [
        "LETTERS"
      ],
      "execution_count": 2,
      "outputs": [
        {
          "output_type": "display_data",
          "data": {
            "text/plain": [
              " [1] \"A\" \"B\" \"C\" \"D\" \"E\" \"F\" \"G\" \"H\" \"I\" \"J\" \"K\" \"L\" \"M\" \"N\" \"O\" \"P\" \"Q\" \"R\" \"S\"\n",
              "[20] \"T\" \"U\" \"V\" \"W\" \"X\" \"Y\" \"Z\""
            ],
            "text/latex": "\\begin{enumerate*}\n\\item 'A'\n\\item 'B'\n\\item 'C'\n\\item 'D'\n\\item 'E'\n\\item 'F'\n\\item 'G'\n\\item 'H'\n\\item 'I'\n\\item 'J'\n\\item 'K'\n\\item 'L'\n\\item 'M'\n\\item 'N'\n\\item 'O'\n\\item 'P'\n\\item 'Q'\n\\item 'R'\n\\item 'S'\n\\item 'T'\n\\item 'U'\n\\item 'V'\n\\item 'W'\n\\item 'X'\n\\item 'Y'\n\\item 'Z'\n\\end{enumerate*}\n",
            "text/markdown": "1. 'A'\n2. 'B'\n3. 'C'\n4. 'D'\n5. 'E'\n6. 'F'\n7. 'G'\n8. 'H'\n9. 'I'\n10. 'J'\n11. 'K'\n12. 'L'\n13. 'M'\n14. 'N'\n15. 'O'\n16. 'P'\n17. 'Q'\n18. 'R'\n19. 'S'\n20. 'T'\n21. 'U'\n22. 'V'\n23. 'W'\n24. 'X'\n25. 'Y'\n26. 'Z'\n\n\n",
            "text/html": [
              "<style>\n",
              ".list-inline {list-style: none; margin:0; padding: 0}\n",
              ".list-inline>li {display: inline-block}\n",
              ".list-inline>li:not(:last-child)::after {content: \"\\00b7\"; padding: 0 .5ex}\n",
              "</style>\n",
              "<ol class=list-inline><li>'A'</li><li>'B'</li><li>'C'</li><li>'D'</li><li>'E'</li><li>'F'</li><li>'G'</li><li>'H'</li><li>'I'</li><li>'J'</li><li>'K'</li><li>'L'</li><li>'M'</li><li>'N'</li><li>'O'</li><li>'P'</li><li>'Q'</li><li>'R'</li><li>'S'</li><li>'T'</li><li>'U'</li><li>'V'</li><li>'W'</li><li>'X'</li><li>'Y'</li><li>'Z'</li></ol>\n"
            ]
          },
          "metadata": {
            "tags": []
          }
        }
      ]
    },
    {
      "cell_type": "code",
      "metadata": {
        "colab": {
          "base_uri": "https://localhost:8080/",
          "height": 34
        },
        "id": "dNObYiLib6Zt",
        "outputId": "51886046-f324-4051-bd50-93dd32fb0d18"
      },
      "source": [
        "LETTERS[1:number_of_variants]"
      ],
      "execution_count": 3,
      "outputs": [
        {
          "output_type": "display_data",
          "data": {
            "text/plain": [
              " [1] \"A\" \"B\" \"C\" \"D\" \"E\" \"F\" \"G\" \"H\" \"I\" \"J\""
            ],
            "text/latex": "\\begin{enumerate*}\n\\item 'A'\n\\item 'B'\n\\item 'C'\n\\item 'D'\n\\item 'E'\n\\item 'F'\n\\item 'G'\n\\item 'H'\n\\item 'I'\n\\item 'J'\n\\end{enumerate*}\n",
            "text/markdown": "1. 'A'\n2. 'B'\n3. 'C'\n4. 'D'\n5. 'E'\n6. 'F'\n7. 'G'\n8. 'H'\n9. 'I'\n10. 'J'\n\n\n",
            "text/html": [
              "<style>\n",
              ".list-inline {list-style: none; margin:0; padding: 0}\n",
              ".list-inline>li {display: inline-block}\n",
              ".list-inline>li:not(:last-child)::after {content: \"\\00b7\"; padding: 0 .5ex}\n",
              "</style>\n",
              "<ol class=list-inline><li>'A'</li><li>'B'</li><li>'C'</li><li>'D'</li><li>'E'</li><li>'F'</li><li>'G'</li><li>'H'</li><li>'I'</li><li>'J'</li></ol>\n"
            ]
          },
          "metadata": {
            "tags": []
          }
        }
      ]
    },
    {
      "cell_type": "code",
      "metadata": {
        "colab": {
          "base_uri": "https://localhost:8080/",
          "height": 34
        },
        "id": "r20Mx6YvcTZj",
        "outputId": "46c50ee0-a6f4-4693-8e8d-94b3928ef4cc"
      },
      "source": [
        "alleles = LETTERS[1:number_of_variants]\n",
        "alleles"
      ],
      "execution_count": 4,
      "outputs": [
        {
          "output_type": "display_data",
          "data": {
            "text/plain": [
              " [1] \"A\" \"B\" \"C\" \"D\" \"E\" \"F\" \"G\" \"H\" \"I\" \"J\""
            ],
            "text/latex": "\\begin{enumerate*}\n\\item 'A'\n\\item 'B'\n\\item 'C'\n\\item 'D'\n\\item 'E'\n\\item 'F'\n\\item 'G'\n\\item 'H'\n\\item 'I'\n\\item 'J'\n\\end{enumerate*}\n",
            "text/markdown": "1. 'A'\n2. 'B'\n3. 'C'\n4. 'D'\n5. 'E'\n6. 'F'\n7. 'G'\n8. 'H'\n9. 'I'\n10. 'J'\n\n\n",
            "text/html": [
              "<style>\n",
              ".list-inline {list-style: none; margin:0; padding: 0}\n",
              ".list-inline>li {display: inline-block}\n",
              ".list-inline>li:not(:last-child)::after {content: \"\\00b7\"; padding: 0 .5ex}\n",
              "</style>\n",
              "<ol class=list-inline><li>'A'</li><li>'B'</li><li>'C'</li><li>'D'</li><li>'E'</li><li>'F'</li><li>'G'</li><li>'H'</li><li>'I'</li><li>'J'</li></ol>\n"
            ]
          },
          "metadata": {
            "tags": []
          }
        }
      ]
    },
    {
      "cell_type": "markdown",
      "metadata": {
        "id": "lQmOM4Ksl3Y7"
      },
      "source": [
        "Generate initial distribution of variants"
      ]
    },
    {
      "cell_type": "code",
      "metadata": {
        "id": "Gx15Khk2mLJt",
        "colab": {
          "base_uri": "https://localhost:8080/",
          "height": 68
        },
        "outputId": "93b6fe16-d17a-4d2d-e995-e749e26b681a"
      },
      "source": [
        "population = sample (alleles, population_size, replace = TRUE)\n",
        "population"
      ],
      "execution_count": 5,
      "outputs": [
        {
          "output_type": "display_data",
          "data": {
            "text/plain": [
              "  [1] \"B\" \"H\" \"H\" \"B\" \"J\" \"E\" \"B\" \"H\" \"J\" \"A\" \"F\" \"D\" \"H\" \"B\" \"B\" \"G\" \"I\" \"E\"\n",
              " [19] \"F\" \"C\" \"E\" \"E\" \"H\" \"D\" \"I\" \"G\" \"A\" \"C\" \"E\" \"C\" \"H\" \"A\" \"G\" \"J\" \"G\" \"I\"\n",
              " [37] \"I\" \"I\" \"G\" \"J\" \"F\" \"E\" \"G\" \"F\" \"A\" \"C\" \"F\" \"E\" \"H\" \"H\" \"F\" \"H\" \"A\" \"G\"\n",
              " [55] \"F\" \"A\" \"E\" \"C\" \"D\" \"I\" \"G\" \"F\" \"G\" \"E\" \"H\" \"H\" \"C\" \"F\" \"G\" \"C\" \"F\" \"J\"\n",
              " [73] \"E\" \"H\" \"D\" \"A\" \"A\" \"J\" \"B\" \"I\" \"B\" \"D\" \"C\" \"D\" \"G\" \"C\" \"H\" \"G\" \"B\" \"G\"\n",
              " [91] \"B\" \"E\" \"D\" \"E\" \"C\" \"C\" \"J\" \"A\" \"A\" \"D\""
            ],
            "text/latex": "\\begin{enumerate*}\n\\item 'B'\n\\item 'H'\n\\item 'H'\n\\item 'B'\n\\item 'J'\n\\item 'E'\n\\item 'B'\n\\item 'H'\n\\item 'J'\n\\item 'A'\n\\item 'F'\n\\item 'D'\n\\item 'H'\n\\item 'B'\n\\item 'B'\n\\item 'G'\n\\item 'I'\n\\item 'E'\n\\item 'F'\n\\item 'C'\n\\item 'E'\n\\item 'E'\n\\item 'H'\n\\item 'D'\n\\item 'I'\n\\item 'G'\n\\item 'A'\n\\item 'C'\n\\item 'E'\n\\item 'C'\n\\item 'H'\n\\item 'A'\n\\item 'G'\n\\item 'J'\n\\item 'G'\n\\item 'I'\n\\item 'I'\n\\item 'I'\n\\item 'G'\n\\item 'J'\n\\item 'F'\n\\item 'E'\n\\item 'G'\n\\item 'F'\n\\item 'A'\n\\item 'C'\n\\item 'F'\n\\item 'E'\n\\item 'H'\n\\item 'H'\n\\item 'F'\n\\item 'H'\n\\item 'A'\n\\item 'G'\n\\item 'F'\n\\item 'A'\n\\item 'E'\n\\item 'C'\n\\item 'D'\n\\item 'I'\n\\item 'G'\n\\item 'F'\n\\item 'G'\n\\item 'E'\n\\item 'H'\n\\item 'H'\n\\item 'C'\n\\item 'F'\n\\item 'G'\n\\item 'C'\n\\item 'F'\n\\item 'J'\n\\item 'E'\n\\item 'H'\n\\item 'D'\n\\item 'A'\n\\item 'A'\n\\item 'J'\n\\item 'B'\n\\item 'I'\n\\item 'B'\n\\item 'D'\n\\item 'C'\n\\item 'D'\n\\item 'G'\n\\item 'C'\n\\item 'H'\n\\item 'G'\n\\item 'B'\n\\item 'G'\n\\item 'B'\n\\item 'E'\n\\item 'D'\n\\item 'E'\n\\item 'C'\n\\item 'C'\n\\item 'J'\n\\item 'A'\n\\item 'A'\n\\item 'D'\n\\end{enumerate*}\n",
            "text/markdown": "1. 'B'\n2. 'H'\n3. 'H'\n4. 'B'\n5. 'J'\n6. 'E'\n7. 'B'\n8. 'H'\n9. 'J'\n10. 'A'\n11. 'F'\n12. 'D'\n13. 'H'\n14. 'B'\n15. 'B'\n16. 'G'\n17. 'I'\n18. 'E'\n19. 'F'\n20. 'C'\n21. 'E'\n22. 'E'\n23. 'H'\n24. 'D'\n25. 'I'\n26. 'G'\n27. 'A'\n28. 'C'\n29. 'E'\n30. 'C'\n31. 'H'\n32. 'A'\n33. 'G'\n34. 'J'\n35. 'G'\n36. 'I'\n37. 'I'\n38. 'I'\n39. 'G'\n40. 'J'\n41. 'F'\n42. 'E'\n43. 'G'\n44. 'F'\n45. 'A'\n46. 'C'\n47. 'F'\n48. 'E'\n49. 'H'\n50. 'H'\n51. 'F'\n52. 'H'\n53. 'A'\n54. 'G'\n55. 'F'\n56. 'A'\n57. 'E'\n58. 'C'\n59. 'D'\n60. 'I'\n61. 'G'\n62. 'F'\n63. 'G'\n64. 'E'\n65. 'H'\n66. 'H'\n67. 'C'\n68. 'F'\n69. 'G'\n70. 'C'\n71. 'F'\n72. 'J'\n73. 'E'\n74. 'H'\n75. 'D'\n76. 'A'\n77. 'A'\n78. 'J'\n79. 'B'\n80. 'I'\n81. 'B'\n82. 'D'\n83. 'C'\n84. 'D'\n85. 'G'\n86. 'C'\n87. 'H'\n88. 'G'\n89. 'B'\n90. 'G'\n91. 'B'\n92. 'E'\n93. 'D'\n94. 'E'\n95. 'C'\n96. 'C'\n97. 'J'\n98. 'A'\n99. 'A'\n100. 'D'\n\n\n",
            "text/html": [
              "<style>\n",
              ".list-inline {list-style: none; margin:0; padding: 0}\n",
              ".list-inline>li {display: inline-block}\n",
              ".list-inline>li:not(:last-child)::after {content: \"\\00b7\"; padding: 0 .5ex}\n",
              "</style>\n",
              "<ol class=list-inline><li>'B'</li><li>'H'</li><li>'H'</li><li>'B'</li><li>'J'</li><li>'E'</li><li>'B'</li><li>'H'</li><li>'J'</li><li>'A'</li><li>'F'</li><li>'D'</li><li>'H'</li><li>'B'</li><li>'B'</li><li>'G'</li><li>'I'</li><li>'E'</li><li>'F'</li><li>'C'</li><li>'E'</li><li>'E'</li><li>'H'</li><li>'D'</li><li>'I'</li><li>'G'</li><li>'A'</li><li>'C'</li><li>'E'</li><li>'C'</li><li>'H'</li><li>'A'</li><li>'G'</li><li>'J'</li><li>'G'</li><li>'I'</li><li>'I'</li><li>'I'</li><li>'G'</li><li>'J'</li><li>'F'</li><li>'E'</li><li>'G'</li><li>'F'</li><li>'A'</li><li>'C'</li><li>'F'</li><li>'E'</li><li>'H'</li><li>'H'</li><li>'F'</li><li>'H'</li><li>'A'</li><li>'G'</li><li>'F'</li><li>'A'</li><li>'E'</li><li>'C'</li><li>'D'</li><li>'I'</li><li>'G'</li><li>'F'</li><li>'G'</li><li>'E'</li><li>'H'</li><li>'H'</li><li>'C'</li><li>'F'</li><li>'G'</li><li>'C'</li><li>'F'</li><li>'J'</li><li>'E'</li><li>'H'</li><li>'D'</li><li>'A'</li><li>'A'</li><li>'J'</li><li>'B'</li><li>'I'</li><li>'B'</li><li>'D'</li><li>'C'</li><li>'D'</li><li>'G'</li><li>'C'</li><li>'H'</li><li>'G'</li><li>'B'</li><li>'G'</li><li>'B'</li><li>'E'</li><li>'D'</li><li>'E'</li><li>'C'</li><li>'C'</li><li>'J'</li><li>'A'</li><li>'A'</li><li>'D'</li></ol>\n"
            ]
          },
          "metadata": {
            "tags": []
          }
        }
      ]
    },
    {
      "cell_type": "markdown",
      "metadata": {
        "id": "IeNe7EAEm_7W"
      },
      "source": [
        "Display number of variants at t = 0"
      ]
    },
    {
      "cell_type": "code",
      "metadata": {
        "colab": {
          "base_uri": "https://localhost:8080/",
          "height": 34
        },
        "id": "44dsl688m4hW",
        "outputId": "57552958-ec80-422d-9c94-4550637dcabb"
      },
      "source": [
        "length(unique(population))"
      ],
      "execution_count": 6,
      "outputs": [
        {
          "output_type": "display_data",
          "data": {
            "text/plain": [
              "[1] 10"
            ],
            "text/latex": "10",
            "text/markdown": "10",
            "text/html": [
              "10"
            ]
          },
          "metadata": {
            "tags": []
          }
        }
      ]
    },
    {
      "cell_type": "markdown",
      "metadata": {
        "id": "YQrtJkKtmRdI"
      },
      "source": [
        "Display initial alleles counts at t = 0"
      ]
    },
    {
      "cell_type": "code",
      "metadata": {
        "colab": {
          "base_uri": "https://localhost:8080/",
          "height": 68
        },
        "id": "dNqWRT5QmVFZ",
        "outputId": "5e9bc862-b495-40b1-8f17-a6b1685a80db"
      },
      "source": [
        "table(population)"
      ],
      "execution_count": 7,
      "outputs": [
        {
          "output_type": "display_data",
          "data": {
            "text/plain": [
              "population\n",
              " A  B  C  D  E  F  G  H  I  J \n",
              "10  9 11  8 12 10 13 13  7  7 "
            ]
          },
          "metadata": {
            "tags": []
          }
        }
      ]
    },
    {
      "cell_type": "markdown",
      "metadata": {
        "id": "rVSG6loVneBS"
      },
      "source": [
        "Display initial alleles freqs at t = 0"
      ]
    },
    {
      "cell_type": "code",
      "metadata": {
        "colab": {
          "base_uri": "https://localhost:8080/",
          "height": 68
        },
        "id": "-cSfTsxNnfEb",
        "outputId": "74f27832-1fcb-49fe-9876-6105c07048c9"
      },
      "source": [
        "table(population)/population_size"
      ],
      "execution_count": 8,
      "outputs": [
        {
          "output_type": "display_data",
          "data": {
            "text/plain": [
              "population\n",
              "   A    B    C    D    E    F    G    H    I    J \n",
              "0.10 0.09 0.11 0.08 0.12 0.10 0.13 0.13 0.07 0.07 "
            ]
          },
          "metadata": {
            "tags": []
          }
        }
      ]
    }
  ]
}