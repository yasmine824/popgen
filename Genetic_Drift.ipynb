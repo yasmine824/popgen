{
  "nbformat": 4,
  "nbformat_minor": 0,
  "metadata": {
    "kernelspec": {
      "display_name": "R",
      "language": "R",
      "name": "ir"
    },
    "language_info": {
      "codemirror_mode": "r",
      "file_extension": ".r",
      "mimetype": "text/x-r-source",
      "name": "R",
      "pygments_lexer": "r",
      "version": "3.3.1"
    },
    "colab": {
      "name": "Genetic Drift",
      "provenance": [],
      "collapsed_sections": [],
      "include_colab_link": true
    }
  },
  "cells": [
    {
      "cell_type": "markdown",
      "metadata": {
        "id": "view-in-github",
        "colab_type": "text"
      },
      "source": [
        "<a href=\"https://colab.research.google.com/github/ahmedmoustafa/popgen/blob/main/Genetic_Drift.ipynb\" target=\"_parent\"><img src=\"https://colab.research.google.com/assets/colab-badge.svg\" alt=\"Open In Colab\"/></a>"
      ]
    },
    {
      "cell_type": "markdown",
      "metadata": {
        "id": "7G9n7ivlqpYU"
      },
      "source": [
        "# Genetic Drift\n",
        "---"
      ]
    },
    {
      "cell_type": "code",
      "metadata": {
        "id": "HKsnvnAPbUDY"
      },
      "source": [
        "number_of_variants = 10 # Number of alleles\n",
        "population_size = 100\n",
        "number_of_generations = 1000 # Maximum number of generations"
      ],
      "execution_count": 1,
      "outputs": []
    },
    {
      "cell_type": "markdown",
      "metadata": {
        "id": "lQmOM4Ksl3Y7"
      },
      "source": [
        "Generate initial distribution of variants"
      ]
    },
    {
      "cell_type": "code",
      "metadata": {
        "id": "Gx15Khk2mLJt"
      },
      "source": [
        "variants = sample (LETTERS[1:number_of_variants], population_size, replace = TRUE)"
      ],
      "execution_count": 2,
      "outputs": []
    },
    {
      "cell_type": "markdown",
      "metadata": {
        "id": "IeNe7EAEm_7W"
      },
      "source": [
        "Display number of variants at t = 0"
      ]
    },
    {
      "cell_type": "code",
      "metadata": {
        "colab": {
          "base_uri": "https://localhost:8080/",
          "height": 34
        },
        "id": "44dsl688m4hW",
        "outputId": "64e06ce9-1137-4c29-814e-c9034262bd41"
      },
      "source": [
        "length(unique(variants))"
      ],
      "execution_count": 3,
      "outputs": [
        {
          "output_type": "display_data",
          "data": {
            "text/plain": [
              "[1] 10"
            ],
            "text/latex": "10",
            "text/markdown": "10",
            "text/html": [
              "10"
            ]
          },
          "metadata": {
            "tags": []
          }
        }
      ]
    },
    {
      "cell_type": "markdown",
      "metadata": {
        "id": "YQrtJkKtmRdI"
      },
      "source": [
        "Display initial alleles counts at t = 0"
      ]
    },
    {
      "cell_type": "code",
      "metadata": {
        "colab": {
          "base_uri": "https://localhost:8080/",
          "height": 68
        },
        "id": "dNqWRT5QmVFZ",
        "outputId": "317682f5-cbc4-439d-f6cb-939a3254e566"
      },
      "source": [
        "table(variants)"
      ],
      "execution_count": 4,
      "outputs": [
        {
          "output_type": "display_data",
          "data": {
            "text/plain": [
              "variants\n",
              " A  B  C  D  E  F  G  H  I  J \n",
              "14  6 18 14  5  9  9  5  8 12 "
            ]
          },
          "metadata": {
            "tags": []
          }
        }
      ]
    },
    {
      "cell_type": "markdown",
      "metadata": {
        "id": "rVSG6loVneBS"
      },
      "source": [
        "Display initial alleles freqs at t = 0"
      ]
    },
    {
      "cell_type": "code",
      "metadata": {
        "colab": {
          "base_uri": "https://localhost:8080/",
          "height": 68
        },
        "id": "-cSfTsxNnfEb",
        "outputId": "5f631afd-3f44-440a-d3f3-ee8b6cbeca17"
      },
      "source": [
        "table(variants)/population_size"
      ],
      "execution_count": 5,
      "outputs": [
        {
          "output_type": "display_data",
          "data": {
            "text/plain": [
              "variants\n",
              "   A    B    C    D    E    F    G    H    I    J \n",
              "0.14 0.06 0.18 0.14 0.05 0.09 0.09 0.05 0.08 0.12 "
            ]
          },
          "metadata": {
            "tags": []
          }
        }
      ]
    }
  ]
}